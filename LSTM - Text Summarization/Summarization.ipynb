{
 "cells": [
  {
   "cell_type": "code",
   "execution_count": 94,
   "metadata": {},
   "outputs": [],
   "source": [
    "import numpy as np  \n",
    "import pandas as pd \n",
    "import re\n",
    "import matplotlib.pyplot as plt\n",
    "from bs4 import BeautifulSoup\n",
    "import tensorflow as tf\n",
    "from tensorflow.keras.preprocessing.text import Tokenizer\n",
    "from tensorflow.keras.layers import Input, LSTM, Embedding, Dense, Concatenate, TimeDistributed, Bidirectional, Attention\n",
    "from tensorflow.keras.optimizers import Adam\n",
    "from tensorflow.keras.models import Model\n",
    "from tensorflow.keras.callbacks import EarlyStopping\n",
    "from keras.preprocessing.sequence import pad_sequences\n",
    "from keras import backend as K\n",
    "from nltk.corpus import stopwords   \n",
    "from sklearn.model_selection import train_test_split\n",
    "import warnings\n",
    "pd.set_option(\"display.max_colwidth\", 100)\n",
    "warnings.filterwarnings(\"ignore\", category=DeprecationWarning)"
   ]
  },
  {
   "cell_type": "markdown",
   "metadata": {},
   "source": [
    "# **Read**"
   ]
  },
  {
   "cell_type": "code",
   "execution_count": 72,
   "metadata": {},
   "outputs": [
    {
     "name": "stdout",
     "output_type": "stream",
     "text": [
      "(5000, 2)\n"
     ]
    },
    {
     "data": {
      "text/html": [
       "<div>\n",
       "<style scoped>\n",
       "    .dataframe tbody tr th:only-of-type {\n",
       "        vertical-align: middle;\n",
       "    }\n",
       "\n",
       "    .dataframe tbody tr th {\n",
       "        vertical-align: top;\n",
       "    }\n",
       "\n",
       "    .dataframe thead th {\n",
       "        text-align: right;\n",
       "    }\n",
       "</style>\n",
       "<table border=\"1\" class=\"dataframe\">\n",
       "  <thead>\n",
       "    <tr style=\"text-align: right;\">\n",
       "      <th></th>\n",
       "      <th>text</th>\n",
       "      <th>summary</th>\n",
       "    </tr>\n",
       "  </thead>\n",
       "  <tbody>\n",
       "    <tr>\n",
       "      <th>0</th>\n",
       "      <td>program inovatif seperti business matching dan referral, melalui dukungan induk usahanya, yakni ...</td>\n",
       "      <td>Program business matching yang diperkenalkan di Indonesia diharapkan dapatkan pelaku usaha kedua...</td>\n",
       "    </tr>\n",
       "    <tr>\n",
       "      <th>1</th>\n",
       "      <td>Di bawah koordinasi Kementerian Investasi dan Hilirisasi/BKPM, para pemangku kepentingan di sekt...</td>\n",
       "      <td>Rapat Koordinasi Nasional (Rakornas) Investasi 2024 pada Rabu (11/12) di Jakarta . Rakornas ini ...</td>\n",
       "    </tr>\n",
       "    <tr>\n",
       "      <th>2</th>\n",
       "      <td>Kementerian Keu­­­angan baru saja merilis data terkait de­­­­ngan kinerja APBN dan per­­­ekonomi...</td>\n",
       "      <td>Pembiayaan APBN mengalami defisit sebesar Rp401,8 triliun atau 1,81% dari PDB . Kinerja APBN san...</td>\n",
       "    </tr>\n",
       "    <tr>\n",
       "      <th>3</th>\n",
       "      <td>Kementerian Investasi dan Hilirisasi/Badan Koordinasi Penanaman Modal (BKPM) menyelenggarakan ac...</td>\n",
       "      <td>Kementerian Investasi dan Hilirisasi/Badan Koordinasi Penanaman Modal (BKPM) menyelenggarakan ac...</td>\n",
       "    </tr>\n",
       "    <tr>\n",
       "      <th>4</th>\n",
       "      <td>Penjabat Gubernur Papua Tengah, Anwar Harun Damanik menetapkan Upah Minimum Provinsi (UMP) provi...</td>\n",
       "      <td>Anwar Harun Damanik menetapkan Upah Minimum Provinsi (UMP) provinsi itu pada tahun 2025 naik 6,5...</td>\n",
       "    </tr>\n",
       "  </tbody>\n",
       "</table>\n",
       "</div>"
      ],
      "text/plain": [
       "                                                                                                  text  \\\n",
       "0  program inovatif seperti business matching dan referral, melalui dukungan induk usahanya, yakni ...   \n",
       "1  Di bawah koordinasi Kementerian Investasi dan Hilirisasi/BKPM, para pemangku kepentingan di sekt...   \n",
       "2  Kementerian Keu­­­angan baru saja merilis data terkait de­­­­ngan kinerja APBN dan per­­­ekonomi...   \n",
       "3  Kementerian Investasi dan Hilirisasi/Badan Koordinasi Penanaman Modal (BKPM) menyelenggarakan ac...   \n",
       "4  Penjabat Gubernur Papua Tengah, Anwar Harun Damanik menetapkan Upah Minimum Provinsi (UMP) provi...   \n",
       "\n",
       "                                                                                               summary  \n",
       "0  Program business matching yang diperkenalkan di Indonesia diharapkan dapatkan pelaku usaha kedua...  \n",
       "1  Rapat Koordinasi Nasional (Rakornas) Investasi 2024 pada Rabu (11/12) di Jakarta . Rakornas ini ...  \n",
       "2  Pembiayaan APBN mengalami defisit sebesar Rp401,8 triliun atau 1,81% dari PDB . Kinerja APBN san...  \n",
       "3  Kementerian Investasi dan Hilirisasi/Badan Koordinasi Penanaman Modal (BKPM) menyelenggarakan ac...  \n",
       "4  Anwar Harun Damanik menetapkan Upah Minimum Provinsi (UMP) provinsi itu pada tahun 2025 naik 6,5...  "
      ]
     },
     "execution_count": 72,
     "metadata": {},
     "output_type": "execute_result"
    }
   ],
   "source": [
    "df = pd.read_csv(\"economic-headline.csv\", delimiter=\"~\")\n",
    "df.drop_duplicates()\n",
    "df.dropna(axis=0,inplace=True)\n",
    "df = df[:5000]\n",
    "print(df.shape)\n",
    "df.head()"
   ]
  },
  {
   "cell_type": "code",
   "execution_count": 73,
   "metadata": {},
   "outputs": [
    {
     "name": "stdout",
     "output_type": "stream",
     "text": [
      "Text: 0    program inovatif seperti business matching dan referral, melalui dukungan induk usahanya, yakni ...\n",
      "1    Di bawah koordinasi Kementerian Investasi dan Hilirisasi/BKPM, para pemangku kepentingan di sekt...\n",
      "2    Kementerian Keu­­­angan baru saja merilis data terkait de­­­­ngan kinerja APBN dan per­­­ekonomi...\n",
      "3    Kementerian Investasi dan Hilirisasi/Badan Koordinasi Penanaman Modal (BKPM) menyelenggarakan ac...\n",
      "4    Penjabat Gubernur Papua Tengah, Anwar Harun Damanik menetapkan Upah Minimum Provinsi (UMP) provi...\n",
      "5    BNI Kanwil 07 Fokus dalam melakukan pembiayaan pada sektor ekonomi utama di Sulsel di mana 43% p...\n",
      "6    PT Sarana Multi Infrastruktur (Persero) mengungkap capaian dari pembiayaan program Pemulihan Eko...\n",
      "7    End Press Briefing, Kamis (12/12/2024). Melihat lembaga internasional lainnya seperti IMF dan Wo...\n",
      "8    sektor utama seperti pertambangan, industri pengolahan, dan konstruksi. Dia mengungkapkan bahwa ...\n",
      "9    desa ekonomi kreatif. “Ini adalah wujud sinergi heksa-helix, di mana pemerintah, dunia usaha, ak...\n",
      "Name: text, dtype: object\n",
      "Summary: 0    Program business matching yang diperkenalkan di Indonesia diharapkan dapatkan pelaku usaha kedua...\n",
      "1    Rapat Koordinasi Nasional (Rakornas) Investasi 2024 pada Rabu (11/12) di Jakarta . Rakornas ini ...\n",
      "2    Pembiayaan APBN mengalami defisit sebesar Rp401,8 triliun atau 1,81% dari PDB . Kinerja APBN san...\n",
      "3    Kementerian Investasi dan Hilirisasi/Badan Koordinasi Penanaman Modal (BKPM) menyelenggarakan ac...\n",
      "4    Anwar Harun Damanik menetapkan Upah Minimum Provinsi (UMP) provinsi itu pada tahun 2025 naik 6,5...\n",
      "5    BNI Kanwil 07 Fokus dalam melakukukan pembiayaan pada sektor ekonomi utama di Sulsel . 43% penya...\n",
      "6    PT Sarana Multi Infrastruktur (Persero) mengungkap capaian dari pembiayaan program Pemulihan Eko...\n",
      "7    ADB terpantau memproyeksikan angka yang sama untuk 2024 . Namun untuk 2025, ADB memiliki proyeks...\n",
      "8    Budi mengungkapkan bahwa pertumbuhan positif di sektor-sektor ini didorong oleh permintaan domes...\n",
      "9    Workshop ini melibatkan 30 pelaku usaha dari bidang kuliner, kriya, dan fashion yang difokuskan ...\n",
      "Name: summary, dtype: object\n"
     ]
    }
   ],
   "source": [
    "print(f'Text: {df['text'][:10]}')\n",
    "print(f'Summary: {df['summary'][:10]}')"
   ]
  },
  {
   "cell_type": "code",
   "execution_count": 74,
   "metadata": {},
   "outputs": [
    {
     "name": "stdout",
     "output_type": "stream",
     "text": [
      "<class 'pandas.core.frame.DataFrame'>\n",
      "Index: 5000 entries, 0 to 5018\n",
      "Data columns (total 2 columns):\n",
      " #   Column   Non-Null Count  Dtype \n",
      "---  ------   --------------  ----- \n",
      " 0   text     5000 non-null   object\n",
      " 1   summary  5000 non-null   object\n",
      "dtypes: object(2)\n",
      "memory usage: 117.2+ KB\n"
     ]
    }
   ],
   "source": [
    "df.info()"
   ]
  },
  {
   "cell_type": "markdown",
   "metadata": {},
   "source": [
    "# **Cleaning**"
   ]
  },
  {
   "cell_type": "code",
   "execution_count": 75,
   "metadata": {},
   "outputs": [],
   "source": [
    "stop_words = set(stopwords.words('indonesian'))"
   ]
  },
  {
   "cell_type": "code",
   "execution_count": 76,
   "metadata": {},
   "outputs": [
    {
     "name": "stderr",
     "output_type": "stream",
     "text": [
      "C:\\Users\\maxce\\AppData\\Local\\Temp\\ipykernel_21908\\2908878634.py:3: MarkupResemblesLocatorWarning: The input looks more like a filename than markup. You may want to open this file and pass the filehandle into Beautiful Soup.\n",
      "  newtxt = BeautifulSoup(newtxt, \"lxml\").text\n"
     ]
    }
   ],
   "source": [
    "def text_cleaner(text):\n",
    "    newtxt = text.lower()\n",
    "    newtxt = BeautifulSoup(newtxt, \"lxml\").text\n",
    "    newtxt = re.sub(r'\\([^)]*\\)', '', newtxt)\n",
    "    newtxt = re.sub('\"','', newtxt)\n",
    "    newtxt = re.sub(r\"'s\\b\",\"\",newtxt)\n",
    "    newtxt = re.sub(\"[^a-zA-Z]\", \" \", newtxt) \n",
    "    tokens = [i for i in newtxt.split() if not i in stop_words]\n",
    "    long_words=[]\n",
    "    for i in tokens:\n",
    "        if len(i)>=3:\n",
    "            long_words.append(i)   \n",
    "    return (\" \".join(long_words)).strip()\n",
    "\n",
    "cleaned_text = []\n",
    "for i in df['text']:\n",
    "    cleaned_text.append(text_cleaner(i))"
   ]
  },
  {
   "cell_type": "code",
   "execution_count": 77,
   "metadata": {},
   "outputs": [],
   "source": [
    "def summary_cleaner(text):\n",
    "    newtxt = text.lower()\n",
    "    newtxt = re.sub('\"','', newtxt)\n",
    "    newtxt = re.sub(r\"'s\\b\",\"\",newtxt)\n",
    "    newtxt = re.sub(\"[^a-zA-Z]\", \" \", newtxt) \n",
    "    tokens = newtxt.split()\n",
    "    newtext=''\n",
    "    for i in tokens:\n",
    "        if len(i)>1:                                 \n",
    "            newtext=newtext+i+' '  \n",
    "    return newtext\n",
    "\n",
    "cleaned_summary = []\n",
    "for i in df['summary']:\n",
    "    cleaned_summary.append(summary_cleaner(i))"
   ]
  },
  {
   "cell_type": "code",
   "execution_count": 78,
   "metadata": {},
   "outputs": [
    {
     "name": "stderr",
     "output_type": "stream",
     "text": [
      "C:\\Users\\maxce\\AppData\\Local\\Temp\\ipykernel_21908\\2504870128.py:3: FutureWarning: A value is trying to be set on a copy of a DataFrame or Series through chained assignment using an inplace method.\n",
      "The behavior will change in pandas 3.0. This inplace method will never work because the intermediate object on which we are setting values always behaves as a copy.\n",
      "\n",
      "For example, when doing 'df[col].method(value, inplace=True)', try using 'df.method({col: value}, inplace=True)' or df[col] = df[col].method(value) instead, to perform the operation inplace on the original object.\n",
      "\n",
      "\n",
      "  df['cleaned_summary'].replace('', np.nan, inplace=True)\n"
     ]
    }
   ],
   "source": [
    "df['cleaned_text']=cleaned_text\n",
    "df['cleaned_summary']=cleaned_summary\n",
    "df['cleaned_summary'].replace('', np.nan, inplace=True)\n",
    "df.dropna(axis=0,inplace=True)"
   ]
  },
  {
   "cell_type": "code",
   "execution_count": 79,
   "metadata": {},
   "outputs": [],
   "source": [
    "df['cleaned_summary'] = df['cleaned_summary'].apply(lambda x : 'START '+ x + ' END')"
   ]
  },
  {
   "cell_type": "code",
   "execution_count": 80,
   "metadata": {},
   "outputs": [
    {
     "name": "stdout",
     "output_type": "stream",
     "text": [
      "Text: program inovatif business matching referral dukungan induk usahanya kasikornbank salah bank terbesar thailand presiden direktur bank maspion kasemsri charoensiddhi peran bank maspion jembatan ekonomi indonesia thailand selaras strategi kbank sukses mendukung pengembangan segmen usaha menengah negaranya program business matching diperkenalkan indonesia diharapkan membantu pelaku usaha negara menemukan mitra strategis memperluas pasar membantu menemukan mitra matchmaker merujuk bertemu berdiskusi membangun kesepakatan bisnis kamis business matching bank maspion aktif mendorong program referral nasabah thailand informasi peluang investasi indonesia bank maspion memfasilitasi pertemuan bisnis\n",
      "Summary: START program business matching yang diperkenalkan di indonesia diharapkan dapatkan pelaku usaha kedua negara menemukan strategis bank maspion tidak hanya memfasilitasi pertemuan bisnis  END\n",
      "\n",
      "\n",
      "Text: koordinasi kementerian investasi hilirisasi bkpm pemangku kepentingan sektor investasi dinas penanaman modal pelayanan terpadu pintu administrator kawasan ekonomi khusus badan pengusahaan kawasan perdagangan bebas pelabuhan bebas berkumpul gelaran rapat koordinasi nasional investasi rabu jakarta rakornas dihadiri peserta fokus pembahasan sinergi penguatan investasi pusat daerah menteri investasi hilirisasi kepala bkpm rosan perkasa roeslani sambutannya menekankan sinergi lintas sektor mewujudkan target pertumbuhan ekonomi dicanangkan presiden prabowo subianto menteri rosan menggarisbawahi investasi akselerator pertumbuhan ekonomi mantan ketua kadin badan perencanaan pembangunan nasional menetapkan target investasi trili\n",
      "Summary: START rapat koordinasi nasional rakornas investasi pada rabu di jakarta rakornas ini dihadiri lebih dari peserta dengan fokus pembahasan pada sinergi dan penguatan investasi  END\n",
      "\n",
      "\n",
      "Text: kementerian keu angan merilis data terkait ngan kinerja apbn ekonomian nasional data nerja apbn vem ber lid kinerja pen patan negara mencapai triliun target men tara belanja negara terealisasi triliun tar get berdasarkan realisasi pendapatan belanja pembiayaan apbn mengalami defisit triliun pdb kinerja apbn resilient kuat perkembangan ekonomi global dibayangi ketidakpastian risiko perekonomian global meningkat disebabkan pergantian kepemimpinan amerika serikat donald trump terpilih presiden kalinya fenomena terpilihnya nald trump kalinya memiliki dampak signifikan ketidakpastian ekonomi global indikator terpengaru\n",
      "Summary: START pembiayaan apbn mengalami defisit sebesar rp triliun atau dari pdb kinerja apbn sangat resilient dan kuat di tengah perkembangan ekonomi global yang masih dibayangi ketidakpastian  END\n",
      "\n",
      "\n"
     ]
    }
   ],
   "source": [
    "for i in range(3):\n",
    "    print(f\"Text: {df['cleaned_text'][i]}\")\n",
    "    print(f\"Summary: {df['cleaned_summary'][i]}\")\n",
    "    print(\"\\n\")"
   ]
  },
  {
   "cell_type": "code",
   "execution_count": 81,
   "metadata": {},
   "outputs": [
    {
     "data": {
      "image/png": "[encoded data removed]",
      "text/plain": [
       "<Figure size 640x480 with 2 Axes>"
      ]
     },
     "metadata": {},
     "output_type": "display_data"
    }
   ],
   "source": [
    "text_word_count = []\n",
    "summary_word_count = []\n",
    "\n",
    "for i in df['cleaned_text']:\n",
    "      text_word_count.append(len(i.split()))\n",
    "\n",
    "for i in df['cleaned_summary']:\n",
    "      summary_word_count.append(len(i.split()))\n",
    "\n",
    "length_df = pd.DataFrame({'text':text_word_count, 'summary':summary_word_count})\n",
    "length_df.hist(bins=30)\n",
    "plt.show()"
   ]
  },
  {
   "cell_type": "code",
   "execution_count": 82,
   "metadata": {},
   "outputs": [],
   "source": [
    "TEXT_MAX_LENGTH = 80\n",
    "SUMMARY_MAX_LENGTH = 30"
   ]
  },
  {
   "cell_type": "markdown",
   "metadata": {},
   "source": [
    "# **Split**"
   ]
  },
  {
   "cell_type": "code",
   "execution_count": 83,
   "metadata": {},
   "outputs": [],
   "source": [
    "x = df['cleaned_text']\n",
    "y = df['cleaned_summary']\n",
    "\n",
    "x_train,x_val,y_train,y_val=train_test_split(x, y, test_size=0.1, random_state=42, shuffle=True)"
   ]
  },
  {
   "cell_type": "code",
   "execution_count": 84,
   "metadata": {},
   "outputs": [],
   "source": [
    "x_tokenizer = Tokenizer()\n",
    "y_tokenizer = Tokenizer()\n",
    "\n",
    "x_tokenizer.fit_on_texts(list(x_train))\n",
    "y_tokenizer.fit_on_texts(list(y_train))\n",
    "\n",
    "x_train = x_tokenizer.texts_to_sequences(x_train) \n",
    "y_train = y_tokenizer.texts_to_sequences(y_train)\n",
    "x_val = x_tokenizer.texts_to_sequences(x_val)\n",
    "y_val = y_tokenizer.texts_to_sequences(y_val) \n",
    "\n",
    "x_train = pad_sequences(x_train,  maxlen=TEXT_MAX_LENGTH, padding='post') \n",
    "y_train  = pad_sequences(y_train, maxlen=SUMMARY_MAX_LENGTH, padding='post')\n",
    "x_val = pad_sequences(x_val, maxlen=TEXT_MAX_LENGTH, padding='post')\n",
    "y_val = pad_sequences(y_val, maxlen=SUMMARY_MAX_LENGTH, padding='post')\n",
    "\n",
    "x_voc_size = len(x_tokenizer.word_index) +1\n",
    "y_voc_size = len(y_tokenizer.word_index) +1"
   ]
  },
  {
   "cell_type": "markdown",
   "metadata": {},
   "source": [
    "# **Model**"
   ]
  },
  {
   "cell_type": "code",
   "execution_count": 85,
   "metadata": {},
   "outputs": [
    {
     "data": {
      "text/html": [
       "<pre style=\"white-space:pre;overflow-x:auto;line-height:normal;font-family:Menlo,'DejaVu Sans Mono',consolas,'Courier New',monospace\"><span style=\"font-weight: bold\">Model: \"functional\"</span>\n",
       "</pre>\n"
      ],
      "text/plain": [
       "\u001b[1mModel: \"functional\"\u001b[0m\n"
      ]
     },
     "metadata": {},
     "output_type": "display_data"
    },
    {
     "data": {
      "text/html": [
       "<pre style=\"white-space:pre;overflow-x:auto;line-height:normal;font-family:Menlo,'DejaVu Sans Mono',consolas,'Courier New',monospace\">┏━━━━━━━━━━━━━━━━━━━━━┳━━━━━━━━━━━━━━━━━━━┳━━━━━━━━━━━━┳━━━━━━━━━━━━━━━━━━━┓\n",
       "┃<span style=\"font-weight: bold\"> Layer (type)        </span>┃<span style=\"font-weight: bold\"> Output Shape      </span>┃<span style=\"font-weight: bold\">    Param # </span>┃<span style=\"font-weight: bold\"> Connected to      </span>┃\n",
       "┡━━━━━━━━━━━━━━━━━━━━━╇━━━━━━━━━━━━━━━━━━━╇━━━━━━━━━━━━╇━━━━━━━━━━━━━━━━━━━┩\n",
       "│ input_layer         │ (<span style=\"color: #00d7ff; text-decoration-color: #00d7ff\">None</span>, <span style=\"color: #00af00; text-decoration-color: #00af00\">80</span>)        │          <span style=\"color: #00af00; text-decoration-color: #00af00\">0</span> │ -                 │\n",
       "│ (<span style=\"color: #0087ff; text-decoration-color: #0087ff\">InputLayer</span>)        │                   │            │                   │\n",
       "├─────────────────────┼───────────────────┼────────────┼───────────────────┤\n",
       "│ embedding           │ (<span style=\"color: #00d7ff; text-decoration-color: #00d7ff\">None</span>, <span style=\"color: #00af00; text-decoration-color: #00af00\">80</span>, <span style=\"color: #00af00; text-decoration-color: #00af00\">256</span>)   │  <span style=\"color: #00af00; text-decoration-color: #00af00\">5,199,104</span> │ input_layer[<span style=\"color: #00af00; text-decoration-color: #00af00\">0</span>][<span style=\"color: #00af00; text-decoration-color: #00af00\">0</span>] │\n",
       "│ (<span style=\"color: #0087ff; text-decoration-color: #0087ff\">Embedding</span>)         │                   │            │                   │\n",
       "├─────────────────────┼───────────────────┼────────────┼───────────────────┤\n",
       "│ input_layer_1       │ (<span style=\"color: #00d7ff; text-decoration-color: #00d7ff\">None</span>, <span style=\"color: #00d7ff; text-decoration-color: #00d7ff\">None</span>)      │          <span style=\"color: #00af00; text-decoration-color: #00af00\">0</span> │ -                 │\n",
       "│ (<span style=\"color: #0087ff; text-decoration-color: #0087ff\">InputLayer</span>)        │                   │            │                   │\n",
       "├─────────────────────┼───────────────────┼────────────┼───────────────────┤\n",
       "│ bidirectional       │ [(<span style=\"color: #00d7ff; text-decoration-color: #00d7ff\">None</span>, <span style=\"color: #00af00; text-decoration-color: #00af00\">80</span>, <span style=\"color: #00af00; text-decoration-color: #00af00\">512</span>), │  <span style=\"color: #00af00; text-decoration-color: #00af00\">1,050,624</span> │ embedding[<span style=\"color: #00af00; text-decoration-color: #00af00\">0</span>][<span style=\"color: #00af00; text-decoration-color: #00af00\">0</span>]   │\n",
       "│ (<span style=\"color: #0087ff; text-decoration-color: #0087ff\">Bidirectional</span>)     │ (<span style=\"color: #00d7ff; text-decoration-color: #00d7ff\">None</span>, <span style=\"color: #00af00; text-decoration-color: #00af00\">256</span>),      │            │                   │\n",
       "│                     │ (<span style=\"color: #00d7ff; text-decoration-color: #00d7ff\">None</span>, <span style=\"color: #00af00; text-decoration-color: #00af00\">256</span>),      │            │                   │\n",
       "│                     │ (<span style=\"color: #00d7ff; text-decoration-color: #00d7ff\">None</span>, <span style=\"color: #00af00; text-decoration-color: #00af00\">256</span>),      │            │                   │\n",
       "│                     │ (<span style=\"color: #00d7ff; text-decoration-color: #00d7ff\">None</span>, <span style=\"color: #00af00; text-decoration-color: #00af00\">256</span>)]      │            │                   │\n",
       "├─────────────────────┼───────────────────┼────────────┼───────────────────┤\n",
       "│ embedding_1         │ (<span style=\"color: #00d7ff; text-decoration-color: #00d7ff\">None</span>, <span style=\"color: #00d7ff; text-decoration-color: #00d7ff\">None</span>, <span style=\"color: #00af00; text-decoration-color: #00af00\">256</span>) │  <span style=\"color: #00af00; text-decoration-color: #00af00\">2,849,792</span> │ input_layer_1[<span style=\"color: #00af00; text-decoration-color: #00af00\">0</span>]… │\n",
       "│ (<span style=\"color: #0087ff; text-decoration-color: #0087ff\">Embedding</span>)         │                   │            │                   │\n",
       "├─────────────────────┼───────────────────┼────────────┼───────────────────┤\n",
       "│ concatenate         │ (<span style=\"color: #00d7ff; text-decoration-color: #00d7ff\">None</span>, <span style=\"color: #00af00; text-decoration-color: #00af00\">512</span>)       │          <span style=\"color: #00af00; text-decoration-color: #00af00\">0</span> │ bidirectional[<span style=\"color: #00af00; text-decoration-color: #00af00\">0</span>]… │\n",
       "│ (<span style=\"color: #0087ff; text-decoration-color: #0087ff\">Concatenate</span>)       │                   │            │ bidirectional[<span style=\"color: #00af00; text-decoration-color: #00af00\">0</span>]… │\n",
       "├─────────────────────┼───────────────────┼────────────┼───────────────────┤\n",
       "│ concatenate_1       │ (<span style=\"color: #00d7ff; text-decoration-color: #00d7ff\">None</span>, <span style=\"color: #00af00; text-decoration-color: #00af00\">512</span>)       │          <span style=\"color: #00af00; text-decoration-color: #00af00\">0</span> │ bidirectional[<span style=\"color: #00af00; text-decoration-color: #00af00\">0</span>]… │\n",
       "│ (<span style=\"color: #0087ff; text-decoration-color: #0087ff\">Concatenate</span>)       │                   │            │ bidirectional[<span style=\"color: #00af00; text-decoration-color: #00af00\">0</span>]… │\n",
       "├─────────────────────┼───────────────────┼────────────┼───────────────────┤\n",
       "│ lstm_1 (<span style=\"color: #0087ff; text-decoration-color: #0087ff\">LSTM</span>)       │ [(<span style=\"color: #00d7ff; text-decoration-color: #00d7ff\">None</span>, <span style=\"color: #00d7ff; text-decoration-color: #00d7ff\">None</span>,     │  <span style=\"color: #00af00; text-decoration-color: #00af00\">1,574,912</span> │ embedding_1[<span style=\"color: #00af00; text-decoration-color: #00af00\">0</span>][<span style=\"color: #00af00; text-decoration-color: #00af00\">0</span>… │\n",
       "│                     │ <span style=\"color: #00af00; text-decoration-color: #00af00\">512</span>), (<span style=\"color: #00d7ff; text-decoration-color: #00d7ff\">None</span>,      │            │ concatenate[<span style=\"color: #00af00; text-decoration-color: #00af00\">0</span>][<span style=\"color: #00af00; text-decoration-color: #00af00\">0</span>… │\n",
       "│                     │ <span style=\"color: #00af00; text-decoration-color: #00af00\">512</span>), (<span style=\"color: #00d7ff; text-decoration-color: #00d7ff\">None</span>,      │            │ concatenate_1[<span style=\"color: #00af00; text-decoration-color: #00af00\">0</span>]… │\n",
       "│                     │ <span style=\"color: #00af00; text-decoration-color: #00af00\">512</span>)]             │            │                   │\n",
       "├─────────────────────┼───────────────────┼────────────┼───────────────────┤\n",
       "│ attention_layer     │ (<span style=\"color: #00d7ff; text-decoration-color: #00d7ff\">None</span>, <span style=\"color: #00d7ff; text-decoration-color: #00d7ff\">None</span>, <span style=\"color: #00af00; text-decoration-color: #00af00\">512</span>) │          <span style=\"color: #00af00; text-decoration-color: #00af00\">0</span> │ lstm_1[<span style=\"color: #00af00; text-decoration-color: #00af00\">0</span>][<span style=\"color: #00af00; text-decoration-color: #00af00\">0</span>],     │\n",
       "│ (<span style=\"color: #0087ff; text-decoration-color: #0087ff\">Attention</span>)         │                   │            │ bidirectional[<span style=\"color: #00af00; text-decoration-color: #00af00\">0</span>]… │\n",
       "├─────────────────────┼───────────────────┼────────────┼───────────────────┤\n",
       "│ concat_layer        │ (<span style=\"color: #00d7ff; text-decoration-color: #00d7ff\">None</span>, <span style=\"color: #00d7ff; text-decoration-color: #00d7ff\">None</span>,      │          <span style=\"color: #00af00; text-decoration-color: #00af00\">0</span> │ lstm_1[<span style=\"color: #00af00; text-decoration-color: #00af00\">0</span>][<span style=\"color: #00af00; text-decoration-color: #00af00\">0</span>],     │\n",
       "│ (<span style=\"color: #0087ff; text-decoration-color: #0087ff\">Concatenate</span>)       │ <span style=\"color: #00af00; text-decoration-color: #00af00\">1024</span>)             │            │ attention_layer[<span style=\"color: #00af00; text-decoration-color: #00af00\">…</span> │\n",
       "├─────────────────────┼───────────────────┼────────────┼───────────────────┤\n",
       "│ time_distributed    │ (<span style=\"color: #00d7ff; text-decoration-color: #00d7ff\">None</span>, <span style=\"color: #00d7ff; text-decoration-color: #00d7ff\">None</span>,      │ <span style=\"color: #00af00; text-decoration-color: #00af00\">11,410,300</span> │ concat_layer[<span style=\"color: #00af00; text-decoration-color: #00af00\">0</span>][<span style=\"color: #00af00; text-decoration-color: #00af00\">…</span> │\n",
       "│ (<span style=\"color: #0087ff; text-decoration-color: #0087ff\">TimeDistributed</span>)   │ <span style=\"color: #00af00; text-decoration-color: #00af00\">11132</span>)            │            │                   │\n",
       "└─────────────────────┴───────────────────┴────────────┴───────────────────┘\n",
       "</pre>\n"
      ],
      "text/plain": [
       "┏━━━━━━━━━━━━━━━━━━━━━┳━━━━━━━━━━━━━━━━━━━┳━━━━━━━━━━━━┳━━━━━━━━━━━━━━━━━━━┓\n",
       "┃\u001b[1m \u001b[0m\u001b[1mLayer (type)       \u001b[0m\u001b[1m \u001b[0m┃\u001b[1m \u001b[0m\u001b[1mOutput Shape     \u001b[0m\u001b[1m \u001b[0m┃\u001b[1m \u001b[0m\u001b[1m   Param #\u001b[0m\u001b[1m \u001b[0m┃\u001b[1m \u001b[0m\u001b[1mConnected to     \u001b[0m\u001b[1m \u001b[0m┃\n",
       "┡━━━━━━━━━━━━━━━━━━━━━╇━━━━━━━━━━━━━━━━━━━╇━━━━━━━━━━━━╇━━━━━━━━━━━━━━━━━━━┩\n",
       "│ input_layer         │ (\u001b[38;5;45mNone\u001b[0m, \u001b[38;5;34m80\u001b[0m)        │          \u001b[38;5;34m0\u001b[0m │ -                 │\n",
       "│ (\u001b[38;5;33mInputLayer\u001b[0m)        │                   │            │                   │\n",
       "├─────────────────────┼───────────────────┼────────────┼───────────────────┤\n",
       "│ embedding           │ (\u001b[38;5;45mNone\u001b[0m, \u001b[38;5;34m80\u001b[0m, \u001b[38;5;34m256\u001b[0m)   │  \u001b[38;5;34m5,199,104\u001b[0m │ input_layer[\u001b[38;5;34m0\u001b[0m][\u001b[38;5;34m0\u001b[0m] │\n",
       "│ (\u001b[38;5;33mEmbedding\u001b[0m)         │                   │            │                   │\n",
       "├─────────────────────┼───────────────────┼────────────┼───────────────────┤\n",
       "│ input_layer_1       │ (\u001b[38;5;45mNone\u001b[0m, \u001b[38;5;45mNone\u001b[0m)      │          \u001b[38;5;34m0\u001b[0m │ -                 │\n",
       "│ (\u001b[38;5;33mInputLayer\u001b[0m)        │                   │            │                   │\n",
       "├─────────────────────┼───────────────────┼────────────┼───────────────────┤\n",
       "│ bidirectional       │ [(\u001b[38;5;45mNone\u001b[0m, \u001b[38;5;34m80\u001b[0m, \u001b[38;5;34m512\u001b[0m), │  \u001b[38;5;34m1,050,624\u001b[0m │ embedding[\u001b[38;5;34m0\u001b[0m][\u001b[38;5;34m0\u001b[0m]   │\n",
       "│ (\u001b[38;5;33mBidirectional\u001b[0m)     │ (\u001b[38;5;45mNone\u001b[0m, \u001b[38;5;34m256\u001b[0m),      │            │                   │\n",
       "│                     │ (\u001b[38;5;45mNone\u001b[0m, \u001b[38;5;34m256\u001b[0m),      │            │                   │\n",
       "│                     │ (\u001b[38;5;45mNone\u001b[0m, \u001b[38;5;34m256\u001b[0m),      │            │                   │\n",
       "│                     │ (\u001b[38;5;45mNone\u001b[0m, \u001b[38;5;34m256\u001b[0m)]      │            │                   │\n",
       "├─────────────────────┼───────────────────┼────────────┼───────────────────┤\n",
       "│ embedding_1         │ (\u001b[38;5;45mNone\u001b[0m, \u001b[38;5;45mNone\u001b[0m, \u001b[38;5;34m256\u001b[0m) │  \u001b[38;5;34m2,849,792\u001b[0m │ input_layer_1[\u001b[38;5;34m0\u001b[0m]… │\n",
       "│ (\u001b[38;5;33mEmbedding\u001b[0m)         │                   │            │                   │\n",
       "├─────────────────────┼───────────────────┼────────────┼───────────────────┤\n",
       "│ concatenate         │ (\u001b[38;5;45mNone\u001b[0m, \u001b[38;5;34m512\u001b[0m)       │          \u001b[38;5;34m0\u001b[0m │ bidirectional[\u001b[38;5;34m0\u001b[0m]… │\n",
       "│ (\u001b[38;5;33mConcatenate\u001b[0m)       │                   │            │ bidirectional[\u001b[38;5;34m0\u001b[0m]… │\n",
       "├─────────────────────┼───────────────────┼────────────┼───────────────────┤\n",
       "│ concatenate_1       │ (\u001b[38;5;45mNone\u001b[0m, \u001b[38;5;34m512\u001b[0m)       │          \u001b[38;5;34m0\u001b[0m │ bidirectional[\u001b[38;5;34m0\u001b[0m]… │\n",
       "│ (\u001b[38;5;33mConcatenate\u001b[0m)       │                   │            │ bidirectional[\u001b[38;5;34m0\u001b[0m]… │\n",
       "├─────────────────────┼───────────────────┼────────────┼───────────────────┤\n",
       "│ lstm_1 (\u001b[38;5;33mLSTM\u001b[0m)       │ [(\u001b[38;5;45mNone\u001b[0m, \u001b[38;5;45mNone\u001b[0m,     │  \u001b[38;5;34m1,574,912\u001b[0m │ embedding_1[\u001b[38;5;34m0\u001b[0m][\u001b[38;5;34m0\u001b[0m… │\n",
       "│                     │ \u001b[38;5;34m512\u001b[0m), (\u001b[38;5;45mNone\u001b[0m,      │            │ concatenate[\u001b[38;5;34m0\u001b[0m][\u001b[38;5;34m0\u001b[0m… │\n",
       "│                     │ \u001b[38;5;34m512\u001b[0m), (\u001b[38;5;45mNone\u001b[0m,      │            │ concatenate_1[\u001b[38;5;34m0\u001b[0m]… │\n",
       "│                     │ \u001b[38;5;34m512\u001b[0m)]             │            │                   │\n",
       "├─────────────────────┼───────────────────┼────────────┼───────────────────┤\n",
       "│ attention_layer     │ (\u001b[38;5;45mNone\u001b[0m, \u001b[38;5;45mNone\u001b[0m, \u001b[38;5;34m512\u001b[0m) │          \u001b[38;5;34m0\u001b[0m │ lstm_1[\u001b[38;5;34m0\u001b[0m][\u001b[38;5;34m0\u001b[0m],     │\n",
       "│ (\u001b[38;5;33mAttention\u001b[0m)         │                   │            │ bidirectional[\u001b[38;5;34m0\u001b[0m]… │\n",
       "├─────────────────────┼───────────────────┼────────────┼───────────────────┤\n",
       "│ concat_layer        │ (\u001b[38;5;45mNone\u001b[0m, \u001b[38;5;45mNone\u001b[0m,      │          \u001b[38;5;34m0\u001b[0m │ lstm_1[\u001b[38;5;34m0\u001b[0m][\u001b[38;5;34m0\u001b[0m],     │\n",
       "│ (\u001b[38;5;33mConcatenate\u001b[0m)       │ \u001b[38;5;34m1024\u001b[0m)             │            │ attention_layer[\u001b[38;5;34m…\u001b[0m │\n",
       "├─────────────────────┼───────────────────┼────────────┼───────────────────┤\n",
       "│ time_distributed    │ (\u001b[38;5;45mNone\u001b[0m, \u001b[38;5;45mNone\u001b[0m,      │ \u001b[38;5;34m11,410,300\u001b[0m │ concat_layer[\u001b[38;5;34m0\u001b[0m][\u001b[38;5;34m…\u001b[0m │\n",
       "│ (\u001b[38;5;33mTimeDistributed\u001b[0m)   │ \u001b[38;5;34m11132\u001b[0m)            │            │                   │\n",
       "└─────────────────────┴───────────────────┴────────────┴───────────────────┘\n"
      ]
     },
     "metadata": {},
     "output_type": "display_data"
    },
    {
     "data": {
      "text/html": [
       "<pre style=\"white-space:pre;overflow-x:auto;line-height:normal;font-family:Menlo,'DejaVu Sans Mono',consolas,'Courier New',monospace\"><span style=\"font-weight: bold\"> Total params: </span><span style=\"color: #00af00; text-decoration-color: #00af00\">22,084,732</span> (84.25 MB)\n",
       "</pre>\n"
      ],
      "text/plain": [
       "\u001b[1m Total params: \u001b[0m\u001b[38;5;34m22,084,732\u001b[0m (84.25 MB)\n"
      ]
     },
     "metadata": {},
     "output_type": "display_data"
    },
    {
     "data": {
      "text/html": [
       "<pre style=\"white-space:pre;overflow-x:auto;line-height:normal;font-family:Menlo,'DejaVu Sans Mono',consolas,'Courier New',monospace\"><span style=\"font-weight: bold\"> Trainable params: </span><span style=\"color: #00af00; text-decoration-color: #00af00\">22,084,732</span> (84.25 MB)\n",
       "</pre>\n"
      ],
      "text/plain": [
       "\u001b[1m Trainable params: \u001b[0m\u001b[38;5;34m22,084,732\u001b[0m (84.25 MB)\n"
      ]
     },
     "metadata": {},
     "output_type": "display_data"
    },
    {
     "data": {
      "text/html": [
       "<pre style=\"white-space:pre;overflow-x:auto;line-height:normal;font-family:Menlo,'DejaVu Sans Mono',consolas,'Courier New',monospace\"><span style=\"font-weight: bold\"> Non-trainable params: </span><span style=\"color: #00af00; text-decoration-color: #00af00\">0</span> (0.00 B)\n",
       "</pre>\n"
      ],
      "text/plain": [
       "\u001b[1m Non-trainable params: \u001b[0m\u001b[38;5;34m0\u001b[0m (0.00 B)\n"
      ]
     },
     "metadata": {},
     "output_type": "display_data"
    }
   ],
   "source": [
    "K.clear_session() \n",
    "latent_dim = 256\n",
    "\n",
    "encoder_inputs = Input(shape=(TEXT_MAX_LENGTH,))\n",
    "enc_emb = Embedding(x_voc_size, latent_dim, trainable=True)(encoder_inputs)\n",
    "\n",
    "encoder_lstm = Bidirectional(LSTM(latent_dim, return_sequences=True, return_state=True))\n",
    "encoder_output, forward_h, forward_c, backward_h, backward_c = encoder_lstm(enc_emb)\n",
    "state_h = Concatenate()([forward_h, backward_h])\n",
    "state_c = Concatenate()([forward_c, backward_c])\n",
    "\n",
    "decoder_inputs = Input(shape=(None,))\n",
    "dec_emb_layer = Embedding(y_voc_size, latent_dim, trainable=True)\n",
    "dec_emb = dec_emb_layer(decoder_inputs)\n",
    "\n",
    "decoder_lstm = LSTM(latent_dim * 2, return_sequences=True, return_state=True)\n",
    "decoder_outputs, _, _ = decoder_lstm(dec_emb, initial_state=[state_h, state_c])\n",
    "\n",
    "attn_layer = Attention(name='attention_layer')\n",
    "attn_out = attn_layer([decoder_outputs, encoder_output])\n",
    "\n",
    "decoder_concat_input = Concatenate(axis=-1, name='concat_layer')([decoder_outputs, attn_out])\n",
    "\n",
    "decoder_dense = TimeDistributed(Dense(y_voc_size, activation='softmax'))\n",
    "decoder_outputs = decoder_dense(decoder_concat_input)\n",
    "\n",
    "model = Model([encoder_inputs, decoder_inputs], decoder_outputs)\n",
    "model.summary()"
   ]
  },
  {
   "cell_type": "code",
   "execution_count": 86,
   "metadata": {},
   "outputs": [],
   "source": [
    "model.compile(optimizer = Adam(learning_rate=0.01) , loss='sparse_categorical_crossentropy')\n",
    "es = EarlyStopping(monitor='val_loss', mode='min', verbose=1, patience=5)"
   ]
  },
  {
   "cell_type": "code",
   "execution_count": 87,
   "metadata": {},
   "outputs": [
    {
     "name": "stdout",
     "output_type": "stream",
     "text": [
      "Epoch 1/20\n",
      "\u001b[1m71/71\u001b[0m \u001b[32m━━━━━━━━━━━━━━━━━━━━\u001b[0m\u001b[37m\u001b[0m \u001b[1m73s\u001b[0m 978ms/step - loss: 7.1804 - val_loss: 5.3901\n",
      "Epoch 2/20\n",
      "\u001b[1m71/71\u001b[0m \u001b[32m━━━━━━━━━━━━━━━━━━━━\u001b[0m\u001b[37m\u001b[0m \u001b[1m73s\u001b[0m 1s/step - loss: 5.3300 - val_loss: 4.8128\n",
      "Epoch 3/20\n",
      "\u001b[1m71/71\u001b[0m \u001b[32m━━━━━━━━━━━━━━━━━━━━\u001b[0m\u001b[37m\u001b[0m \u001b[1m63s\u001b[0m 884ms/step - loss: 4.2444 - val_loss: 4.6430\n",
      "Epoch 4/20\n",
      "\u001b[1m71/71\u001b[0m \u001b[32m━━━━━━━━━━━━━━━━━━━━\u001b[0m\u001b[37m\u001b[0m \u001b[1m73s\u001b[0m 1s/step - loss: 3.2354 - val_loss: 4.7358\n",
      "Epoch 5/20\n",
      "\u001b[1m71/71\u001b[0m \u001b[32m━━━━━━━━━━━━━━━━━━━━\u001b[0m\u001b[37m\u001b[0m \u001b[1m62s\u001b[0m 868ms/step - loss: 2.4469 - val_loss: 4.8951\n",
      "Epoch 6/20\n",
      "\u001b[1m71/71\u001b[0m \u001b[32m━━━━━━━━━━━━━━━━━━━━\u001b[0m\u001b[37m\u001b[0m \u001b[1m61s\u001b[0m 855ms/step - loss: 1.8743 - val_loss: 5.0499\n",
      "Epoch 7/20\n",
      "\u001b[1m71/71\u001b[0m \u001b[32m━━━━━━━━━━━━━━━━━━━━\u001b[0m\u001b[37m\u001b[0m \u001b[1m61s\u001b[0m 856ms/step - loss: 1.4739 - val_loss: 5.2274\n",
      "Epoch 8/20\n",
      "\u001b[1m71/71\u001b[0m \u001b[32m━━━━━━━━━━━━━━━━━━━━\u001b[0m\u001b[37m\u001b[0m \u001b[1m60s\u001b[0m 849ms/step - loss: 1.1906 - val_loss: 5.3919\n",
      "Epoch 8: early stopping\n"
     ]
    }
   ],
   "source": [
    "history = model.fit(\n",
    "    [x_train, y_train[:, :-1]],\n",
    "    y_train.reshape(y_train.shape[0], y_train.shape[1], 1)[:, 1:],\n",
    "    epochs=20,\n",
    "    callbacks=[es],\n",
    "    batch_size=64,\n",
    "    validation_data=(\n",
    "        [x_val, y_val[:, :-1]],\n",
    "        y_val.reshape(y_val.shape[0], y_val.shape[1], 1)[:, 1:]))"
   ]
  },
  {
   "cell_type": "code",
   "execution_count": 88,
   "metadata": {},
   "outputs": [
    {
     "data": {
      "image/png": "[encoded data removed]",
      "text/plain": [
       "<Figure size 640x480 with 1 Axes>"
      ]
     },
     "metadata": {},
     "output_type": "display_data"
    }
   ],
   "source": [
    "plt.plot(history.history['loss'], label='loss') \n",
    "plt.plot(history.history['val_loss'], label='val_loss') \n",
    "plt.legend() \n",
    "plt.show()"
   ]
  },
  {
   "cell_type": "code",
   "execution_count": 89,
   "metadata": {},
   "outputs": [],
   "source": [
    "encoder_model = Model(encoder_inputs, [encoder_output, state_h, state_c])\n",
    "\n",
    "decoder_state_input_h = Input(shape=(latent_dim * 2,))\n",
    "decoder_state_input_c = Input(shape=(latent_dim * 2,))\n",
    "decoder_input = Input(shape=(1,))\n",
    "\n",
    "dec_emb2 = dec_emb_layer(decoder_input)\n",
    "decoder_lstm_output, state_h2, state_c2 = decoder_lstm(dec_emb2, initial_state=[decoder_state_input_h, decoder_state_input_c])\n",
    "\n",
    "attn_out2 = attn_layer([decoder_lstm_output, encoder_output])\n",
    "decoder_concat_input2 = Concatenate(axis=-1)([decoder_lstm_output, attn_out2])\n",
    "\n",
    "decoder_output2 = decoder_dense(decoder_concat_input2)\n",
    "\n",
    "decoder_model = Model([decoder_input, decoder_state_input_h, decoder_state_input_c, encoder_output], \n",
    "                      [decoder_output2, state_h2, state_c2])"
   ]
  },
  {
   "cell_type": "code",
   "execution_count": 90,
   "metadata": {},
   "outputs": [],
   "source": [
    "reverse_target_word_index = y_tokenizer.index_word \n",
    "reverse_source_word_index = x_tokenizer.index_word \n",
    "target_word_index = y_tokenizer.word_index"
   ]
  },
  {
   "cell_type": "code",
   "execution_count": 91,
   "metadata": {},
   "outputs": [],
   "source": [
    "def decode_sequence(input_seq):\n",
    "    e_out, e_h, e_c = encoder_model.predict(input_seq)\n",
    "\n",
    "    target_seq = np.zeros((1, 1))\n",
    "\n",
    "    target_seq[0, 0] = target_word_index['start']\n",
    "\n",
    "    stop_condition = False\n",
    "    decoded_sentence = ''\n",
    "    \n",
    "    while not stop_condition:\n",
    "        output_tokens, h, c = decoder_model.predict([target_seq, e_h, e_c, e_out])\n",
    "\n",
    "        sampled_token_index = np.argmax(output_tokens[0, -1, :])\n",
    "        sampled_token = reverse_target_word_index.get(sampled_token_index, '')\n",
    "        \n",
    "        if sampled_token != 'end' and sampled_token != '':\n",
    "            decoded_sentence += ' ' + sampled_token\n",
    "\n",
    "        if sampled_token == 'end' or len(decoded_sentence.split()) >= (SUMMARY_MAX_LENGTH - 1):\n",
    "            stop_condition = True\n",
    "\n",
    "        target_seq = np.zeros((1, 1))\n",
    "        target_seq[0, 0] = sampled_token_index\n",
    "\n",
    "        e_h, e_c = h, c\n",
    "\n",
    "    return decoded_sentence.strip()"
   ]
  },
  {
   "cell_type": "code",
   "execution_count": 92,
   "metadata": {},
   "outputs": [],
   "source": [
    "def seq2summary(input_seq):\n",
    "    newString = ''\n",
    "    for i in input_seq:\n",
    "        if i != 0 and i != target_word_index['start'] and i != target_word_index['end']:\n",
    "            newString += reverse_target_word_index[i] + ' '\n",
    "    return newString.strip()  # Remove any trailing space\n",
    "\n",
    "def seq2text(input_seq):\n",
    "    newString = ''\n",
    "    for i in input_seq:\n",
    "        # Skip the padding token (0)\n",
    "        if i != 0:\n",
    "            newString += reverse_source_word_index[i] + ' '\n",
    "    return newString.strip()"
   ]
  },
  {
   "cell_type": "code",
   "execution_count": 98,
   "metadata": {},
   "outputs": [
    {
     "name": "stdout",
     "output_type": "stream",
     "text": [
      "Review: penyesuaian tarif krl salah keputusan masyarakat wilayah urban pengguna tarif krl boros subsidi dinikmati orang wacana kali kementerian perhubungan pemangku kepentingan terkait bahas stakeholders pastikan realisasi juru bicara kemenhub irawati senin pembahasan tindaklanjut wacana terkait penyesuaian tarif krl kemenhub rutin mengevaluasi pemberlakuan tarif krl jabodetabek merespons perusahaan operator krl kereta commuter indonesia kai commuter mengikuti keputusan kemenhub corporate secretary kai commuter anne purba perusahaan bertugas mengelola moda transportasi krl jabodetabek baca jug\n",
      "Original summary: penyesuaian tarif krl menjadi salah satu keputusan yang masyarakat wilayah urban khususnya pengguna wacana tersebut pertama kali diungkapkan oleh kementerian perhubungan\n",
      "\u001b[1m1/1\u001b[0m \u001b[32m━━━━━━━━━━━━━━━━━━━━\u001b[0m\u001b[37m\u001b[0m \u001b[1m0s\u001b[0m 26ms/step\n",
      "\u001b[1m1/1\u001b[0m \u001b[32m━━━━━━━━━━━━━━━━━━━━\u001b[0m\u001b[37m\u001b[0m \u001b[1m0s\u001b[0m 29ms/step\n",
      "\u001b[1m1/1\u001b[0m \u001b[32m━━━━━━━━━━━━━━━━━━━━\u001b[0m\u001b[37m\u001b[0m \u001b[1m0s\u001b[0m 28ms/step\n",
      "\u001b[1m1/1\u001b[0m \u001b[32m━━━━━━━━━━━━━━━━━━━━\u001b[0m\u001b[37m\u001b[0m \u001b[1m0s\u001b[0m 26ms/step\n",
      "\u001b[1m1/1\u001b[0m \u001b[32m━━━━━━━━━━━━━━━━━━━━\u001b[0m\u001b[37m\u001b[0m \u001b[1m0s\u001b[0m 29ms/step\n",
      "\u001b[1m1/1\u001b[0m \u001b[32m━━━━━━━━━━━━━━━━━━━━\u001b[0m\u001b[37m\u001b[0m \u001b[1m0s\u001b[0m 29ms/step\n",
      "\u001b[1m1/1\u001b[0m \u001b[32m━━━━━━━━━━━━━━━━━━━━\u001b[0m\u001b[37m\u001b[0m \u001b[1m0s\u001b[0m 26ms/step\n",
      "\u001b[1m1/1\u001b[0m \u001b[32m━━━━━━━━━━━━━━━━━━━━\u001b[0m\u001b[37m\u001b[0m \u001b[1m0s\u001b[0m 30ms/step\n",
      "\u001b[1m1/1\u001b[0m \u001b[32m━━━━━━━━━━━━━━━━━━━━\u001b[0m\u001b[37m\u001b[0m \u001b[1m0s\u001b[0m 27ms/step\n",
      "\u001b[1m1/1\u001b[0m \u001b[32m━━━━━━━━━━━━━━━━━━━━\u001b[0m\u001b[37m\u001b[0m \u001b[1m0s\u001b[0m 29ms/step\n",
      "\u001b[1m1/1\u001b[0m \u001b[32m━━━━━━━━━━━━━━━━━━━━\u001b[0m\u001b[37m\u001b[0m \u001b[1m0s\u001b[0m 27ms/step\n",
      "\u001b[1m1/1\u001b[0m \u001b[32m━━━━━━━━━━━━━━━━━━━━\u001b[0m\u001b[37m\u001b[0m \u001b[1m0s\u001b[0m 26ms/step\n",
      "\u001b[1m1/1\u001b[0m \u001b[32m━━━━━━━━━━━━━━━━━━━━\u001b[0m\u001b[37m\u001b[0m \u001b[1m0s\u001b[0m 28ms/step\n",
      "\u001b[1m1/1\u001b[0m \u001b[32m━━━━━━━━━━━━━━━━━━━━\u001b[0m\u001b[37m\u001b[0m \u001b[1m0s\u001b[0m 28ms/step\n",
      "\u001b[1m1/1\u001b[0m \u001b[32m━━━━━━━━━━━━━━━━━━━━\u001b[0m\u001b[37m\u001b[0m \u001b[1m0s\u001b[0m 28ms/step\n",
      "\u001b[1m1/1\u001b[0m \u001b[32m━━━━━━━━━━━━━━━━━━━━\u001b[0m\u001b[37m\u001b[0m \u001b[1m0s\u001b[0m 26ms/step\n",
      "\u001b[1m1/1\u001b[0m \u001b[32m━━━━━━━━━━━━━━━━━━━━\u001b[0m\u001b[37m\u001b[0m \u001b[1m0s\u001b[0m 27ms/step\n",
      "\u001b[1m1/1\u001b[0m \u001b[32m━━━━━━━━━━━━━━━━━━━━\u001b[0m\u001b[37m\u001b[0m \u001b[1m0s\u001b[0m 27ms/step\n",
      "\u001b[1m1/1\u001b[0m \u001b[32m━━━━━━━━━━━━━━━━━━━━\u001b[0m\u001b[37m\u001b[0m \u001b[1m0s\u001b[0m 27ms/step\n",
      "\u001b[1m1/1\u001b[0m \u001b[32m━━━━━━━━━━━━━━━━━━━━\u001b[0m\u001b[37m\u001b[0m \u001b[1m0s\u001b[0m 33ms/step\n",
      "\u001b[1m1/1\u001b[0m \u001b[32m━━━━━━━━━━━━━━━━━━━━\u001b[0m\u001b[37m\u001b[0m \u001b[1m0s\u001b[0m 27ms/step\n",
      "\u001b[1m1/1\u001b[0m \u001b[32m━━━━━━━━━━━━━━━━━━━━\u001b[0m\u001b[37m\u001b[0m \u001b[1m0s\u001b[0m 29ms/step\n",
      "\u001b[1m1/1\u001b[0m \u001b[32m━━━━━━━━━━━━━━━━━━━━\u001b[0m\u001b[37m\u001b[0m \u001b[1m0s\u001b[0m 28ms/step\n",
      "Predicted summary: tarif angkutan penyeberangan kelas ekonomi lintas antarprovinsi pada desember operasional yang sama tahun sebelumnya yang dilakukan oleh sekitar sekitar juta orang\n",
      "\n",
      "\n"
     ]
    }
   ],
   "source": [
    "for i in range(1):\n",
    "    print(\"Review:\", seq2text(x_val[i]))\n",
    "    print(\"Original summary:\", seq2summary(y_val[i]))\n",
    "    predicted_summary = decode_sequence(x_val[i].reshape(1, TEXT_MAX_LENGTH))\n",
    "    print(\"Predicted summary:\", predicted_summary)\n",
    "    \n",
    "    print(\"\\n\")"
   ]
  },
  {
   "cell_type": "code",
   "execution_count": 65,
   "metadata": {},
   "outputs": [],
   "source": [
    "def preprocess_input_text(input_text, tokenizer, max_len):\n",
    "    input_seq = tokenizer.texts_to_sequences([input_text])\n",
    "    input_seq = pad_sequences(input_seq, maxlen=max_len, padding='post')\n",
    "    return input_seq\n",
    "\n",
    "def generate_predicted_summary(input_text):\n",
    "    input_seq = preprocess_input_text(input_text, x_tokenizer, TEXT_MAX_LENGTH)\n",
    "    \n",
    "    predicted_summary = decode_sequence(input_seq)\n",
    "    \n",
    "    return predicted_summary"
   ]
  },
  {
   "cell_type": "code",
   "execution_count": null,
   "metadata": {},
   "outputs": [
    {
     "name": "stdout",
     "output_type": "stream",
     "text": [
      "\u001b[1m1/1\u001b[0m \u001b[32m━━━━━━━━━━━━━━━━━━━━\u001b[0m\u001b[37m\u001b[0m \u001b[1m0s\u001b[0m 27ms/step\n",
      "\u001b[1m1/1\u001b[0m \u001b[32m━━━━━━━━━━━━━━━━━━━━\u001b[0m\u001b[37m\u001b[0m \u001b[1m0s\u001b[0m 29ms/step\n",
      "\u001b[1m1/1\u001b[0m \u001b[32m━━━━━━━━━━━━━━━━━━━━\u001b[0m\u001b[37m\u001b[0m \u001b[1m0s\u001b[0m 26ms/step\n",
      "\u001b[1m1/1\u001b[0m \u001b[32m━━━━━━━━━━━━━━━━━━━━\u001b[0m\u001b[37m\u001b[0m \u001b[1m0s\u001b[0m 26ms/step\n",
      "\u001b[1m1/1\u001b[0m \u001b[32m━━━━━━━━━━━━━━━━━━━━\u001b[0m\u001b[37m\u001b[0m \u001b[1m0s\u001b[0m 29ms/step\n",
      "\u001b[1m1/1\u001b[0m \u001b[32m━━━━━━━━━━━━━━━━━━━━\u001b[0m\u001b[37m\u001b[0m \u001b[1m0s\u001b[0m 28ms/step\n",
      "\u001b[1m1/1\u001b[0m \u001b[32m━━━━━━━━━━━━━━━━━━━━\u001b[0m\u001b[37m\u001b[0m \u001b[1m0s\u001b[0m 26ms/step\n",
      "\u001b[1m1/1\u001b[0m \u001b[32m━━━━━━━━━━━━━━━━━━━━\u001b[0m\u001b[37m\u001b[0m \u001b[1m0s\u001b[0m 29ms/step\n",
      "\u001b[1m1/1\u001b[0m \u001b[32m━━━━━━━━━━━━━━━━━━━━\u001b[0m\u001b[37m\u001b[0m \u001b[1m0s\u001b[0m 28ms/step\n",
      "\u001b[1m1/1\u001b[0m \u001b[32m━━━━━━━━━━━━━━━━━━━━\u001b[0m\u001b[37m\u001b[0m \u001b[1m0s\u001b[0m 29ms/step\n",
      "\u001b[1m1/1\u001b[0m \u001b[32m━━━━━━━━━━━━━━━━━━━━\u001b[0m\u001b[37m\u001b[0m \u001b[1m0s\u001b[0m 28ms/step\n",
      "\u001b[1m1/1\u001b[0m \u001b[32m━━━━━━━━━━━━━━━━━━━━\u001b[0m\u001b[37m\u001b[0m \u001b[1m0s\u001b[0m 28ms/step\n",
      "\u001b[1m1/1\u001b[0m \u001b[32m━━━━━━━━━━━━━━━━━━━━\u001b[0m\u001b[37m\u001b[0m \u001b[1m0s\u001b[0m 28ms/step\n",
      "\u001b[1m1/1\u001b[0m \u001b[32m━━━━━━━━━━━━━━━━━━━━\u001b[0m\u001b[37m\u001b[0m \u001b[1m0s\u001b[0m 31ms/step\n",
      "\u001b[1m1/1\u001b[0m \u001b[32m━━━━━━━━━━━━━━━━━━━━\u001b[0m\u001b[37m\u001b[0m \u001b[1m0s\u001b[0m 28ms/step\n",
      "\u001b[1m1/1\u001b[0m \u001b[32m━━━━━━━━━━━━━━━━━━━━\u001b[0m\u001b[37m\u001b[0m \u001b[1m0s\u001b[0m 29ms/step\n",
      "Input Text: \"\n",
      "Ekonomi kerakyatan menjadi basis utama perekonomian Indonesia agar keadilan sosial bagi seluruh rakyat Indonesia dapat terwujud. \n",
      "Atas dasar itu, negara juga mewajibkan setiap perusahaan di Indonesia untuk mendukung ekonomi kerakyatan. \n",
      "Hal tersebut juga menjadi komitmen PT Astra International Tbk, yang secara serius membangun ekosistem ekonomi kerakyatan, \n",
      "dan secara nyata terbukti memberi dampak terhadap peningkatan kesejahteraan masyarakat. \n",
      "Oleh karena itu detikcom Awards 2024 memberikan anugerah Perusahaan Multi Sektoral Terkemuka Penggerak Ekonomi Rakyat untuk Astra International.  \n",
      "Astra berkeinginan untuk berkontribusi dalam memperkuat ketahanan perekonomian Indonesia yang mendukung masyarakat yang inklusif dan sejahtera. \n",
      "Astra memiliki rekam jejak kontribusi publik dan sosial yang baik melalui empat pilar, yang terdiri dari kesehatan, pendidikan, lingkungan, dan kewirausahaan. \n",
      "Serta sembilan yayasan yang turut berkontribusi untuk pertumbuhan ekonomi Indonesia sekaligus mendukung masyarakat yang inklusif dan sejahtera. \n",
      "Dilaksanakan pertama kali pada tahun 2010, program Astra Semangat Astra Terpadu Untuk (SATU) Indonesia Awards, telah mengapresiasi 657 pemuda Indonesia \n",
      "dari masing-masing bidang, terdiri dari 92 penerima tingkat nasional dan 565 penerima tingkat provinsi. \n",
      "Program SATU Indonesia Awards dikolaborasikan dengan berbagai kegiatan komunitas Astra melalui 200 Kampung Berseri Astra dan 1.196 Desa Sejahtera Astra di 35 provinsi di seluruh Indonesia. \n",
      "Astra adalah salah satu perusahaan publik terbesar di Indonesia, yang terdiri dari 291 anak perusahaan, ventura bersama serta entitas asosiasi, didukung lebih dari 200.000 karyawan. \n",
      "Model bisnis perusahaan yang terdiversifikasi menciptakan sinergi dan peluang di seluruh sektor industri termasuk Otomotif, Jasa Keuangan, Alat Berat, Pertambangan, Konstruksi & Energi, Agribisnis, Infrastruktur dan Logistik, Teknologi Informasi, dan Properti. \n",
      "Astra mempunyai kerangka sustainability baru yang di dalamnya terdapat Astra 2030 Sustainability Aspirations untuk memandu perjalanan transisi Grup Astra dalam menjadi perusahaan yang lebih sustainable pada tahun 2030 dan seterusnya.\n",
      "\n",
      "Predicted Summary: ekonomi indonesia terus berakselerasi dengan mengorbankan pertumbuhan ekonomi indonesia dan diikuti dengan mengorbankan kepentingan\n"
     ]
    }
   ],
   "source": [
    "input_text = \"\"\"\"\n",
    "Ekonomi kerakyatan menjadi basis utama perekonomian Indonesia agar keadilan sosial bagi seluruh rakyat Indonesia dapat terwujud. Atas dasar itu, negara juga mewajibkan setiap perusahaan di Indonesia untuk mendukung ekonomi kerakyatan. Hal tersebut juga menjadi komitmen PT Astra International Tbk, yang secara serius membangun ekosistem ekonomi kerakyatan, dan secara nyata terbukti memberi dampak terhadap peningkatan kesejahteraan masyarakat. \n",
    "Oleh karena itu detikcom Awards 2024 memberikan anugerah Perusahaan Multi Sektoral Terkemuka Penggerak Ekonomi Rakyat untuk Astra International.  \n",
    "Astra berkeinginan untuk berkontribusi dalam memperkuat ketahanan perekonomian Indonesia yang mendukung masyarakat yang inklusif dan sejahtera. \n",
    "Astra memiliki rekam jejak kontribusi publik dan sosial yang baik melalui empat pilar, yang terdiri dari kesehatan, pendidikan, lingkungan, dan kewirausahaan. Serta sembilan yayasan yang turut berkontribusi untuk pertumbuhan ekonomi Indonesia sekaligus mendukung masyarakat yang inklusif dan sejahtera. Dilaksanakan pertama kali pada tahun 2010, program Astra Semangat Astra Terpadu Untuk (SATU) Indonesia Awards, telah mengapresiasi 657 pemuda Indonesia dari masing-masing bidang, terdiri dari 92 penerima tingkat nasional dan 565 penerima tingkat provinsi. Program SATU Indonesia Awards dikolaborasikan dengan berbagai kegiatan komunitas Astra melalui 200 Kampung Berseri Astra dan 1.196 Desa Sejahtera Astra di 35 provinsi di seluruh Indonesia. Astra adalah salah satu perusahaan publik terbesar di Indonesia, yang terdiri dari 291 anak perusahaan, ventura bersama serta entitas asosiasi, didukung lebih dari 200.000 karyawan. Model bisnis perusahaan yang terdiversifikasi menciptakan sinergi dan peluang di seluruh sektor industri termasuk Otomotif, Jasa Keuangan, Alat Berat, Pertambangan, Konstruksi & Energi, Agribisnis, Infrastruktur dan Logistik, Teknologi Informasi, dan Properti. Astra mempunyai kerangka sustainability baru yang di dalamnya terdapat Astra 2030 Sustainability Aspirations untuk memandu perjalanan transisi Grup Astra dalam menjadi perusahaan yang lebih sustainable pada tahun 2030 dan seterusnya.\n",
    "\"\"\"\n",
    "\n",
    "# Generate the predicted summary for the provided input text\n",
    "predicted_summary = generate_predicted_summary(input_text[:80])\n",
    "\n",
    "# Print the predicted summary\n",
    "print(f\"Input Text: {input_text}\")\n",
    "print(\"Predicted Summary:\", predicted_summary)"
   ]
  }
 ],
 "metadata": {
  "kernelspec": {
   "display_name": "Data_Science",
   "language": "python",
   "name": "python3"
  },
  "language_info": {
   "codemirror_mode": {
    "name": "ipython",
    "version": 3
   },
   "file_extension": ".py",
   "mimetype": "text/x-python",
   "name": "python",
   "nbconvert_exporter": "python",
   "pygments_lexer": "ipython3",
   "version": "3.12.7"
  }
 },
 "nbformat": 4,
 "nbformat_minor": 2
}
